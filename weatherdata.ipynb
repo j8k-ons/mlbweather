{
 "cells": [
  {
   "attachments": {},
   "cell_type": "markdown",
   "metadata": {},
   "source": [
    "<h2> Imports </h2>"
   ]
  },
  {
   "cell_type": "code",
   "execution_count": 5,
   "metadata": {},
   "outputs": [],
   "source": [
    "import os\n",
    "import pyodbc \n",
    "import matplotlib.pyplot as plt\n",
    "import requests\n",
    "import json \n",
    "import csv"
   ]
  },
  {
   "attachments": {},
   "cell_type": "markdown",
   "metadata": {},
   "source": [
    "<h2> Connect to SQL Server using pyodbc </h2>"
   ]
  },
  {
   "cell_type": "code",
   "execution_count": 17,
   "metadata": {},
   "outputs": [],
   "source": [
    "server = 'SERVER NAME'\n",
    "database = 'DATABASE NAME' \n",
    "driver = '{ODBC Driver 17 for SQL Server}'\n",
    "conn_string = 'DRIVER='+driver+'; SERVER='+server+';DATABASE='+database+';Trusted_Connection=yes;'"
   ]
  },
  {
   "cell_type": "code",
   "execution_count": 3,
   "metadata": {},
   "outputs": [],
   "source": [
    "def SQLServerConnect(conn_string): \n",
    "    '''Assumes conn_string is a string, establishes connection to SQL Server database\n",
    "    '''\n",
    "    cnxn = pyodbc.connect(conn_string)\n",
    "    cnxn.setdecoding(pyodbc.SQL_CHAR, encoding='latin1')\n",
    "    cnxn.setencoding('latin1')\n",
    "    cursor = cnxn.cursor()  \n",
    "    return cursor"
   ]
  },
  {
   "cell_type": "code",
   "execution_count": null,
   "metadata": {},
   "outputs": [],
   "source": [
    "cursor = SQLServerConnect(conn_string) #Establish Connection"
   ]
  },
  {
   "attachments": {},
   "cell_type": "markdown",
   "metadata": {},
   "source": [
    "<h2> Build Queries for Visual Crossing API </h2>\n",
    "    "
   ]
  },
  {
   "cell_type": "code",
   "execution_count": 6,
   "metadata": {},
   "outputs": [],
   "source": [
    "key = '' # Visual Crossing API key\n",
    "gameRec = [] # List of Game ID's\n",
    "gameDate = [] # List of Game Dates * MUST BE IN 'yyyy-mm-dd' order *\n",
    "gameLAT = [] # List of Game Latitudes\n",
    "gameLONG = [] # List of Game Longitudes\n",
    "queryList = [] # List of queries to send to Visual Crossing API "
   ]
  },
  {
   "cell_type": "code",
   "execution_count": null,
   "metadata": {},
   "outputs": [],
   "source": [
    "def buildVCAPIquery(lat, lon, dt, key): \n",
    "    '''Assumes lat, lon are coordinates, dt datetime as a string in yyyy-mm-dd format\n",
    "        returns a Visual Crossing API Query for those coordinates at that time'''\n",
    "    url = \"https://weather.visualcrossing.com/VisualCrossingWebServices/rest/services/timeline/%f,%f/%s?unitGroup=us&key=%s\"%(lat,lon,dt, key)\n",
    "    return url"
   ]
  },
  {
   "cell_type": "code",
   "execution_count": null,
   "metadata": {},
   "outputs": [],
   "source": [
    "def buildVCAPIqueries(key, queryList, gameRec, gameDate, gameLAT, gameLONG): \n",
    "    '''Assumes key is Visual Crossing API key, \n",
    "       queryList a list, gameRec, gameDate, gameLAT, gameLONG lists of same length\n",
    "       iterates using length of gameRec\n",
    "       calls the buildVCAPIquery to add line to queryList'''\n",
    "    i = 0\n",
    "    while i < len(gameRec):\n",
    "        qURL = buildVCAPIquery(gameLAT[i], gameLONG[i], gameDate[i], key)\n",
    "        queryList.append(qURL)\n",
    "        i += 1"
   ]
  },
  {
   "attachments": {},
   "cell_type": "markdown",
   "metadata": {},
   "source": [
    "<u><h3> There are multiple ways to build these queries </h3></u> \n"
   ]
  },
  {
   "attachments": {},
   "cell_type": "markdown",
   "metadata": {},
   "source": [
    "<h4> 1. Via call to SQL Server DB using the latitude and longitude of the stadium on a home game basis. </h4>\n",
    "<p>  There are two tables, MLBGames that has all home games from the MLB Season, and Stadium that has all the geo data for the stadium locations. Returns GameID, Date, Stadium Latitude, Stadium Longitude.     "
   ]
  },
  {
   "cell_type": "code",
   "execution_count": 7,
   "metadata": {},
   "outputs": [],
   "source": [
    "def buildQueriesUsingSQL(key, cursor, gameRec, gameDate, gameLAT, gameLONG):\n",
    "    '''Assumes key is a visual crossing API key, \n",
    "       cursor is a pyodbc cursor connection, \n",
    "       gameRec, gameDate, gameLAT, gameLONG lists\n",
    "       Queries my SQL Database for ID, Date, Latitude, and Longitude\n",
    "       Appends relevant data to each list,\n",
    "       then calls buildVCAPIqueries function'''\n",
    "    \n",
    "    # construct an SQL query that returns the Gameid, datetime, lat, long from MLBGames and Stadiums\n",
    "    insert_query = '''SELECT mlb.id, mlb.GameDateConverted, std.LAT, std.LONG\n",
    "                        FROM Portfolio..MLBGames mlb\n",
    "                        JOIN Portfolio..Stadiums std\n",
    "                        ON mlb.Stadium = std.id\n",
    "                        WHERE mlb.venue = 'Home'\n",
    "                        ORDER BY mlb.GameDateConverted;'''\n",
    "    cursor.execute(insert_query) # Execute the query\n",
    "\n",
    "    for row in cursor: \n",
    "        gameRec.append(str(row[0])) # Build GameID list\n",
    "        gameDate.append(row[1]) # Build GameDate list\n",
    "        gameLAT.append(row[2]) # Build Latitude List\n",
    "        gameLONG.append(row[3]) # Build Longitude List   \n",
    "    \n",
    "    buildVCAPIqueries(key, queryList, gameRec, gameDate, gameLAT, gameLONG)\n",
    "\n"
   ]
  },
  {
   "attachments": {},
   "cell_type": "markdown",
   "metadata": {},
   "source": [
    "<h4> 2. Via csv with rows structured 'GameID', 'Date', 'latitude', 'longitude'</h4>\n",
    "<p> Important note for Date: Use single quotations and yyyy-mm-dd format, e.g. '2023-04-30'"
   ]
  },
  {
   "cell_type": "code",
   "execution_count": 15,
   "metadata": {},
   "outputs": [
    {
     "name": "stdout",
     "output_type": "stream",
     "text": [
      "1\n"
     ]
    }
   ],
   "source": [
    "def buildQueriesUsingCSV(filename, key, queryList, gameRec, gameDate, gameLAT, gameLONG): \n",
    "    '''Assumes filename is a csv with commas seperators and single quotes usage,\n",
    "       key is Visual Crossing API key, \n",
    "       queryList is list of strings, \n",
    "       gameRec, gameDate, gameLAT, gameLONG are lists of same length\n",
    "       appends relevant data to each list, then calls buildVCAPIqueries function'''\n",
    "    with open(filename) as fp: \n",
    "        reader = csv.reader(fp, delimiter=',', quotechar=\"'\")\n",
    "        data_read = [row for row in reader]\n",
    "    \n",
    "    i = 0 \n",
    "    for i in len(data_read): \n",
    "        gameRec.append(data_read[i][0])\n",
    "        gameDate.append(data_read[i][1])\n",
    "        gameLAT.append(data_read[i][2])\n",
    "        gameLONG.append(data_read[i][3])\n",
    "        i += 1\n",
    "    \n",
    "    buildVCAPIqueries(key, queryList, gameRec, gameDate, gameLAT, gameLONG)\n",
    "\n",
    "    "
   ]
  },
  {
   "attachments": {},
   "cell_type": "markdown",
   "metadata": {},
   "source": [
    "<h4> 3. Build from Save Files </h4> "
   ]
  },
  {
   "attachments": {},
   "cell_type": "markdown",
   "metadata": {},
   "source": [
    "<p> The last way to get ready for querying the VC API is the retrieve previous runs files and feed them back into the lists. If so, it is potentially harmful to run the above code instead of this code. Once you have constructed the list, you should then save your progress to txt files and run this code instead </p> "
   ]
  },
  {
   "cell_type": "code",
   "execution_count": null,
   "metadata": {},
   "outputs": [],
   "source": [
    "def buildFromFile(gameIDFileName, queryListFileName, CompleteListFileName, indexValueFileName): \n",
    "    '''Assumes 4 txt files already exists that were generated last time the program was run. \n",
    "       gameRec is the textFile with the remaining gameID's, \n",
    "       queryList is the txt file with the remaining queryList to run\n",
    "       completeList is the txt file with all successful VC queries run \n",
    "       indexValue is the txt file with the current primary key index for the table in SQL\n",
    "    '''\n",
    "    gameRec = []\n",
    "    f = open(gameIDFileName, 'r')\n",
    "    for line in f: \n",
    "        gameRec.append(line)\n",
    "    f.close()\n",
    "\n",
    "    queryList = []\n",
    "    f = open(queryListFileName, 'r')\n",
    "    for line in f: \n",
    "        queryList.append(line)\n",
    "    f.close()\n",
    "\n",
    "    completeList = []\n",
    "    f = open(CompleteListFileName, 'r')\n",
    "    for line in f: \n",
    "        completeList.append(line)\n",
    "    f.close()\n",
    "\n",
    "    f = open(indexValueFileName, 'r')\n",
    "    for line in f: \n",
    "        indexID = line\n",
    "    f.close()\n",
    "\n",
    "    return gameRec, queryList, completeList, indexID\n",
    "    "
   ]
  },
  {
   "cell_type": "code",
   "execution_count": 9,
   "metadata": {},
   "outputs": [],
   "source": [
    "if len(queryList) == 0 and os.path.isfile('queryList.txt') == False: \n",
    "    buildQueriesUsingSQL(key, cursor, gameRec, gameDate, gameLAT, gameLONG)\n",
    "\n",
    "if os.path.isfile('queryList.txt'): \n",
    "    gameRec, queryList, completeList, indexID = buildFromFile('remainingGames.txt', 'queryList.txt', 'completedList.txt', 'indexvalue.txt')\n"
   ]
  },
  {
   "attachments": {},
   "cell_type": "markdown",
   "metadata": {},
   "source": [
    "<h2> Preparing the SQL Database for JSON returned from the API </h2> "
   ]
  },
  {
   "attachments": {},
   "cell_type": "markdown",
   "metadata": {},
   "source": [
    "<p> The table has 430 columns. 1 is primary key, 1 is foreign key, 20 columns are daily averages, 408 are hourly data. There are 17 columns per hour. In order to build the table, I created a new table in SMSS called 'Weather'. I then built a function that generated an ADD call to the SQL database. </p>  "
   ]
  },
  {
   "attachments": {},
   "cell_type": "markdown",
   "metadata": {},
   "source": [
    "<h4> Building the first part of the insert query </h4>"
   ]
  },
  {
   "cell_type": "code",
   "execution_count": null,
   "metadata": {},
   "outputs": [],
   "source": [
    "add_query = 'INSERT INTO Portfolio..Weather ('\n",
    "res_query = 'ID, GameId, Date, tempmax, tempmin, temp, dew, humidity, precip, windgust, windspeed, winddir, pressure, cloudcover, visibility, solarRadiation, UVIndex, Severerisk, Sunrise, Sunset, Moonphase, conditions,'\n",
    "for i in range(0,24): \n",
    "    temp = 'Hour' +str(i) +'temp'\n",
    "    feelslike = 'Hour' +str(i) +'feelslike'\n",
    "    humidity = 'Hour' +str(i) +'humidity'\n",
    "    dew = 'Hour' +str(i) + 'dew'\n",
    "    precip = 'Hour' +str(i) + 'precip'\n",
    "    precipprob = 'Hour' +str(i) + 'precipprob'\n",
    "    windgust = 'Hour' +str(i) + 'windgust'\n",
    "    windspeed = 'Hour' +str(i) + 'windspeed'\n",
    "    winddir = 'Hour' +str(i) + 'winddir'\n",
    "    pressure = 'Hour' +str(i) + 'pressure'\n",
    "    visibility = 'Hour' +str(i) + 'visibility'\n",
    "    cloudcover = 'Hour' +str(i) + 'cloudcover'\n",
    "    solarradiation = 'Hour' +str(i) + 'solarradiation'\n",
    "    solarenergy = 'Hour' +str(i) + 'solarenergy'\n",
    "    uvindex = 'Hour' +str(i) + 'uvindex'\n",
    "    severerisk = 'Hour' +str(i) + 'severerisk'\n",
    "    conditions = 'Hour' +str(i) + 'conditions'\n",
    "\n",
    "    if i == 23: \n",
    "        res_query += (f'''{temp}, {feelslike}, {humidity}, {dew}, {precip}, {precipprob}, {windgust}, {windspeed}, {winddir}, \n",
    "        {pressure}, {visibility}, {cloudcover}, {solarradiation}, {solarenergy}, {uvindex}, {severerisk}, {conditions})''')\n",
    "    else: \n",
    "        res_query += (f'''{temp}, {feelslike}, {humidity}, {dew}, {precip}, {precipprob}, {windgust}, {windspeed}, {winddir}, \n",
    "        {pressure}, {visibility}, {cloudcover}, {solarradiation}, {solarenergy}, {uvindex}, {severerisk}, {conditions},''')\n",
    "\n",
    "part1_query = add_query + res_query"
   ]
  },
  {
   "attachments": {},
   "cell_type": "markdown",
   "metadata": {},
   "source": [
    "<h4> Making the VC API Call and Adding it to the Weather table </h4>\n"
   ]
  },
  {
   "cell_type": "code",
   "execution_count": 16,
   "metadata": {},
   "outputs": [
    {
     "ename": "NameError",
     "evalue": "name 'queryList' is not defined",
     "output_type": "error",
     "traceback": [
      "\u001b[1;31m---------------------------------------------------------------------------\u001b[0m",
      "\u001b[1;31mNameError\u001b[0m                                 Traceback (most recent call last)",
      "Cell \u001b[1;32mIn[16], line 11\u001b[0m\n\u001b[0;32m      9\u001b[0m cnxn\u001b[39m.\u001b[39msetencoding(\u001b[39m'\u001b[39m\u001b[39mlatin1\u001b[39m\u001b[39m'\u001b[39m)\n\u001b[0;32m     10\u001b[0m cursor \u001b[39m=\u001b[39m cnxn\u001b[39m.\u001b[39mcursor() \n\u001b[1;32m---> 11\u001b[0m queryList[\u001b[39m0\u001b[39m] \u001b[39m=\u001b[39m queryList[\u001b[39m0\u001b[39m]\u001b[39m.\u001b[39mstrip(\u001b[39m'\u001b[39m\u001b[39m\\n\u001b[39;00m\u001b[39m'\u001b[39m)\n\u001b[0;32m     12\u001b[0m \u001b[39m# Run Query on VC API using the top of queryList\u001b[39;00m\n\u001b[0;32m     13\u001b[0m response \u001b[39m=\u001b[39m requests\u001b[39m.\u001b[39mget(queryList[\u001b[39m0\u001b[39m])\n",
      "\u001b[1;31mNameError\u001b[0m: name 'queryList' is not defined"
     ]
    }
   ],
   "source": [
    "  \n",
    "lim = 984 # Cost Limit. Each call is 24 records, you get 1000 free records a day. 24 * 41 is 984. Change to 24 * len(gameRec) if you want the whole thing\n",
    "cost = 0 # keeps track of API call costs. 24 per call\n",
    "\n",
    "while cost < lim: \n",
    "    # Connect to the database\n",
    "    cursor = SQLServerConnect(conn_string)\n",
    "    # Strip the queryList of newline characters if there are any\n",
    "    queryList[0] = queryList[0].strip('\\n')\n",
    "    # Run Query on VC API using the top of queryList\n",
    "    response = requests.get(queryList[0])\n",
    "\n",
    "    # VERIFY THAT VC API RETURNED JSON DATA\n",
    "    data = json.loads(response.text)\n",
    "    #print(data)\n",
    "\n",
    "    # PARSE JSON DATA INTO RELEVANT FIELDS\n",
    "    identry = indexID\n",
    "    game = (int(gameRec[0]))\n",
    "    gameDate = \"'\"+ (data['days'][0]['datetime']) + \"'\"\n",
    "    tempMax = (data['days'][0]['tempmax'])\n",
    "    tempMin = (data['days'][0]['tempmin'])\n",
    "    tempAVG =  (data['days'][0]['temp'])\n",
    "    dewAVG =  (data['days'][0]['dew'])\n",
    "    humidityAVG =  (data['days'][0]['humidity'])\n",
    "    precipAVG =  (data['days'][0]['precip'])\n",
    "    windgustAVG =  (data['days'][0]['windgust'])\n",
    "    windspeedAVG =  (data['days'][0]['windspeed'])\n",
    "    winddirAVG =  (data['days'][0]['winddir'])\n",
    "    pressureAVG =  (data['days'][0]['pressure'])\n",
    "    cloudcovAVG =  (data['days'][0]['cloudcover'])\n",
    "    visibilityAVG =  (data['days'][0]['visibility'])\n",
    "    solarRadAVG =  (data['days'][0]['solarradiation'])\n",
    "    uvindAVG =  (data['days'][0]['uvindex'])\n",
    "    sevriskAVG =  (data['days'][0]['severerisk'])\n",
    "    sunriseAVG =  \"'\" + (data['days'][0]['sunrise']) + \"'\"\n",
    "    sunsetAVG =  \"'\" + (data['days'][0]['sunset']) + \"'\"\n",
    "    moonphaseAVG =  (data['days'][0]['moonphase'])\n",
    "    conditionsAVG =  \"'\" + ((data['days'][0]['conditions'])) + \"'\"\n",
    "    #get values for 24 days, save them to a dictionary \n",
    "    my_dict = {}\n",
    "    for i in range(0,24): \n",
    "        \n",
    "        #Variable names\n",
    "        temp = 'temp'+str(i)\n",
    "        feelslike = 'feelslike'+str(i)\n",
    "        humidity = 'humidity'+str(i)\n",
    "        dew = 'dew'+str(i)\n",
    "        precip = 'precip'+str(i)\n",
    "        precipprob = 'precipprob'+str(i)\n",
    "        windgust = 'windgust'+str(i)\n",
    "        windspeed = 'windspeed' + str(i)\n",
    "        winddir = 'winddir' + str(i)\n",
    "        pressure = 'pressure' + str(i)\n",
    "        visibility = 'visibility' + str(i)\n",
    "        cloudcover = 'cloudcover' + str(i)\n",
    "        solarradiation = 'solarradiation' + str(i)\n",
    "        solarenergy = 'solarenergy' + str(i)\n",
    "        uvindex = 'uvindex' + str(i)\n",
    "        severerisk = 'severerisk' + str(i)\n",
    "        conditions = 'conditions' + str(i)\n",
    "\n",
    "        #Append to dictionary\n",
    "        my_dict[temp] = data['days'][0]['hours'][i]['temp']\n",
    "        my_dict[feelslike] = data['days'][0]['hours'][i]['feelslike']\n",
    "        my_dict[humidity] = data['days'][0]['hours'][i]['humidity']\n",
    "        my_dict[dew] = data['days'][0]['hours'][i]['dew']\n",
    "        my_dict[precip] = data['days'][0]['hours'][i]['precip']\n",
    "        my_dict[precipprob] = data['days'][0]['hours'][i]['precipprob']\n",
    "        my_dict[windgust] = data['days'][0]['hours'][i]['windgust']\n",
    "        my_dict[windspeed] = data['days'][0]['hours'][i]['windspeed']\n",
    "        my_dict[winddir] = data['days'][0]['hours'][i]['winddir']\n",
    "        my_dict[pressure] = data['days'][0]['hours'][i]['pressure']\n",
    "        my_dict[visibility] = data['days'][0]['hours'][i]['visibility']\n",
    "        my_dict[cloudcover] = data['days'][0]['hours'][i]['cloudcover']\n",
    "        my_dict[solarradiation] = data['days'][0]['hours'][i]['solarradiation']\n",
    "        \n",
    "        my_dict[uvindex] = data['days'][0]['hours'][i]['uvindex']\n",
    "        my_dict[severerisk] = data['days'][0]['hours'][i]['severerisk']\n",
    "        my_dict[conditions] = \"'\" + (data['days'][0]['hours'][i]['conditions']) + \"'\"\n",
    "\n",
    "        if (data['days'][0]['hours'][i]['solarenergy'] == None): \n",
    "            my_dict[solarenergy] = 'NULL'\n",
    "        else:     \n",
    "            my_dict[solarenergy] = data['days'][0]['hours'][i]['solarenergy']\n",
    "\n",
    "    # Build Query to add Field Values to SQL Table Weather using f format and my_dict holding all 24 hour data\n",
    "    part2_query = f'''\n",
    "    VALUES ({indexID},{game},{gameDate},{tempMax},{tempMin}, {tempAVG}, {dewAVG}, {humidityAVG}, {precipAVG}, {windgustAVG}, {windspeedAVG}, {winddirAVG}, {pressureAVG}, {cloudcovAVG}, {visibilityAVG}, {solarRadAVG}, {uvindAVG}, {sevriskAVG},{sunriseAVG}, {sunsetAVG}, {moonphaseAVG}, {conditionsAVG},\n",
    "{my_dict['temp0']},{my_dict['feelslike0']}, {my_dict['humidity0']}, {my_dict['dew0']}, {my_dict['precip0']},{my_dict['precipprob0']}, {my_dict['windgust0']}, {my_dict['windspeed0']}, {my_dict['winddir0']}, {my_dict['pressure0']},{my_dict['visibility0']}, {my_dict['cloudcover0']}, {my_dict['solarradiation0']}, {my_dict['solarenergy0']}, {my_dict['uvindex0']},{my_dict['severerisk0']}, {my_dict['conditions0']},\n",
    "{my_dict['temp1']},{my_dict['feelslike1']}, {my_dict['humidity1']}, {my_dict['dew1']}, {my_dict['precip1']},{my_dict['precipprob1']}, {my_dict['windgust1']}, {my_dict['windspeed1']}, {my_dict['winddir1']}, {my_dict['pressure1']},{my_dict['visibility1']}, {my_dict['cloudcover1']}, {my_dict['solarradiation1']}, {my_dict['solarenergy1']}, {my_dict['uvindex1']},{my_dict['severerisk1']}, {(my_dict['conditions1'])},\n",
    "{my_dict['temp2']},{my_dict['feelslike2']}, {my_dict['humidity2']}, {my_dict['dew2']}, {my_dict['precip2']},{my_dict['precipprob2']}, {my_dict['windgust2']}, {my_dict['windspeed2']}, {my_dict['winddir2']}, {my_dict['pressure2']},{my_dict['visibility2']}, {my_dict['cloudcover2']}, {my_dict['solarradiation2']}, {my_dict['solarenergy2']}, {my_dict['uvindex2']},{my_dict['severerisk2']}, {my_dict['conditions2']},\n",
    "{my_dict['temp3']},{my_dict['feelslike3']}, {my_dict['humidity3']}, {my_dict['dew3']}, {my_dict['precip3']},{my_dict['precipprob3']}, {my_dict['windgust3']}, {my_dict['windspeed3']}, {my_dict['winddir3']}, {my_dict['pressure3']},{my_dict['visibility3']}, {my_dict['cloudcover3']}, {my_dict['solarradiation3']}, {my_dict['solarenergy3']}, {my_dict['uvindex3']},{my_dict['severerisk3']}, {my_dict['conditions3']},\n",
    "{my_dict['temp4']},{my_dict['feelslike4']}, {my_dict['humidity4']}, {my_dict['dew4']}, {my_dict['precip4']},{my_dict['precipprob4']}, {my_dict['windgust4']}, {my_dict['windspeed4']}, {my_dict['winddir4']}, {my_dict['pressure4']},{my_dict['visibility4']}, {my_dict['cloudcover4']}, {my_dict['solarradiation4']}, {my_dict['solarenergy4']}, {my_dict['uvindex4']},{my_dict['severerisk4']}, {my_dict['conditions4']},\n",
    "{my_dict['temp5']},{my_dict['feelslike5']}, {my_dict['humidity5']}, {my_dict['dew5']}, {my_dict['precip5']},{my_dict['precipprob5']}, {my_dict['windgust5']}, {my_dict['windspeed5']}, {my_dict['winddir5']}, {my_dict['pressure5']},{my_dict['visibility5']}, {my_dict['cloudcover5']}, {my_dict['solarradiation5']}, {my_dict['solarenergy5']}, {my_dict['uvindex5']},{my_dict['severerisk5']}, {my_dict['conditions5']},\n",
    "{my_dict['temp6']},{my_dict['feelslike6']}, {my_dict['humidity6']}, {my_dict['dew6']}, {my_dict['precip6']},{my_dict['precipprob6']}, {my_dict['windgust6']}, {my_dict['windspeed6']}, {my_dict['winddir6']}, {my_dict['pressure6']},{my_dict['visibility6']}, {my_dict['cloudcover6']}, {my_dict['solarradiation6']}, {my_dict['solarenergy6']}, {my_dict['uvindex6']},{my_dict['severerisk6']}, {my_dict['conditions6']},\n",
    "{my_dict['temp7']},{my_dict['feelslike7']}, {my_dict['humidity7']}, {my_dict['dew7']}, {my_dict['precip7']},{my_dict['precipprob7']}, {my_dict['windgust7']}, {my_dict['windspeed7']}, {my_dict['winddir7']}, {my_dict['pressure7']},{my_dict['visibility7']}, {my_dict['cloudcover7']}, {my_dict['solarradiation7']}, {my_dict['solarenergy7']}, {my_dict['uvindex7']},{my_dict['severerisk7']}, {my_dict['conditions7']},\n",
    "{my_dict['temp8']},{my_dict['feelslike8']}, {my_dict['humidity8']}, {my_dict['dew8']}, {my_dict['precip8']},{my_dict['precipprob8']}, {my_dict['windgust8']}, {my_dict['windspeed8']}, {my_dict['winddir8']}, {my_dict['pressure8']},{my_dict['visibility8']}, {my_dict['cloudcover8']}, {my_dict['solarradiation8']}, {my_dict['solarenergy8']}, {my_dict['uvindex8']},{my_dict['severerisk8']}, {my_dict['conditions8']},\n",
    "{my_dict['temp9']},{my_dict['feelslike9']}, {my_dict['humidity9']}, {my_dict['dew9']}, {my_dict['precip9']},{my_dict['precipprob9']}, {my_dict['windgust9']}, {my_dict['windspeed9']}, {my_dict['winddir9']}, {my_dict['pressure9']},{my_dict['visibility9']}, {my_dict['cloudcover9']}, {my_dict['solarradiation9']}, {my_dict['solarenergy9']}, {my_dict['uvindex9']},{my_dict['severerisk9']}, {my_dict['conditions9']},\n",
    "{my_dict['temp10']},{my_dict['feelslike10']}, {my_dict['humidity10']}, {my_dict['dew10']}, {my_dict['precip10']},{my_dict['precipprob10']}, {my_dict['windgust10']}, {my_dict['windspeed10']}, {my_dict['winddir10']}, {my_dict['pressure10']},{my_dict['visibility10']}, {my_dict['cloudcover10']}, {my_dict['solarradiation10']}, {my_dict['solarenergy10']}, {my_dict['uvindex10']},{my_dict['severerisk10']}, {my_dict['conditions10']},\n",
    "{my_dict['temp11']},{my_dict['feelslike11']}, {my_dict['humidity11']}, {my_dict['dew11']}, {my_dict['precip11']},{my_dict['precipprob11']}, {my_dict['windgust11']}, {my_dict['windspeed11']}, {my_dict['winddir11']}, {my_dict['pressure11']},{my_dict['visibility11']}, {my_dict['cloudcover11']}, {my_dict['solarradiation11']}, {my_dict['solarenergy11']}, {my_dict['uvindex11']},{my_dict['severerisk11']}, {my_dict['conditions11']},\n",
    "{my_dict['temp12']},{my_dict['feelslike12']}, {my_dict['humidity12']}, {my_dict['dew12']}, {my_dict['precip12']},{my_dict['precipprob12']}, {my_dict['windgust12']}, {my_dict['windspeed12']}, {my_dict['winddir12']}, {my_dict['pressure12']},{my_dict['visibility12']}, {my_dict['cloudcover12']}, {my_dict['solarradiation12']}, {my_dict['solarenergy12']}, {my_dict['uvindex12']},{my_dict['severerisk12']}, {my_dict['conditions12']},\n",
    "{my_dict['temp13']},{my_dict['feelslike13']}, {my_dict['humidity13']}, {my_dict['dew13']}, {my_dict['precip13']},{my_dict['precipprob13']}, {my_dict['windgust13']}, {my_dict['windspeed13']}, {my_dict['winddir13']}, {my_dict['pressure13']},{my_dict['visibility13']}, {my_dict['cloudcover13']}, {my_dict['solarradiation13']}, {my_dict['solarenergy13']}, {my_dict['uvindex13']},{my_dict['severerisk13']}, {my_dict['conditions13']},\n",
    "{my_dict['temp14']},{my_dict['feelslike14']}, {my_dict['humidity14']}, {my_dict['dew14']}, {my_dict['precip14']},{my_dict['precipprob14']}, {my_dict['windgust14']}, {my_dict['windspeed14']}, {my_dict['winddir14']}, {my_dict['pressure14']},{my_dict['visibility14']}, {my_dict['cloudcover14']}, {my_dict['solarradiation14']}, {my_dict['solarenergy14']}, {my_dict['uvindex14']},{my_dict['severerisk14']}, {my_dict['conditions14']},\n",
    "{my_dict['temp15']},{my_dict['feelslike15']}, {my_dict['humidity15']}, {my_dict['dew15']}, {my_dict['precip15']},{my_dict['precipprob15']}, {my_dict['windgust15']}, {my_dict['windspeed15']}, {my_dict['winddir15']}, {my_dict['pressure15']},{my_dict['visibility15']}, {my_dict['cloudcover15']}, {my_dict['solarradiation15']}, {my_dict['solarenergy15']}, {my_dict['uvindex15']},{my_dict['severerisk15']}, {my_dict['conditions15']},\n",
    "{my_dict['temp16']},{my_dict['feelslike16']}, {my_dict['humidity16']}, {my_dict['dew16']}, {my_dict['precip16']},{my_dict['precipprob16']}, {my_dict['windgust16']}, {my_dict['windspeed16']}, {my_dict['winddir16']}, {my_dict['pressure16']},{my_dict['visibility16']}, {my_dict['cloudcover16']}, {my_dict['solarradiation16']}, {my_dict['solarenergy16']}, {my_dict['uvindex16']},{my_dict['severerisk16']}, {my_dict['conditions16']},\n",
    "{my_dict['temp17']},{my_dict['feelslike17']}, {my_dict['humidity17']}, {my_dict['dew17']}, {my_dict['precip17']},{my_dict['precipprob17']}, {my_dict['windgust17']}, {my_dict['windspeed17']}, {my_dict['winddir17']}, {my_dict['pressure17']},{my_dict['visibility17']}, {my_dict['cloudcover17']}, {my_dict['solarradiation17']}, {my_dict['solarenergy17']}, {my_dict['uvindex17']},{my_dict['severerisk17']}, {my_dict['conditions17']},\n",
    "{my_dict['temp18']},{my_dict['feelslike18']}, {my_dict['humidity18']}, {my_dict['dew18']}, {my_dict['precip18']},{my_dict['precipprob18']}, {my_dict['windgust18']}, {my_dict['windspeed18']}, {my_dict['winddir18']}, {my_dict['pressure18']},{my_dict['visibility18']}, {my_dict['cloudcover18']}, {my_dict['solarradiation18']}, {my_dict['solarenergy18']}, {my_dict['uvindex18']},{my_dict['severerisk18']}, {my_dict['conditions18']},\n",
    "{my_dict['temp19']},{my_dict['feelslike19']}, {my_dict['humidity19']}, {my_dict['dew19']}, {my_dict['precip19']},{my_dict['precipprob19']}, {my_dict['windgust19']}, {my_dict['windspeed19']}, {my_dict['winddir19']}, {my_dict['pressure19']},{my_dict['visibility19']}, {my_dict['cloudcover19']}, {my_dict['solarradiation19']}, {my_dict['solarenergy19']}, {my_dict['uvindex19']},{my_dict['severerisk19']}, {my_dict['conditions19']},\n",
    "{my_dict['temp20']},{my_dict['feelslike20']}, {my_dict['humidity20']}, {my_dict['dew20']}, {my_dict['precip20']},{my_dict['precipprob20']}, {my_dict['windgust20']}, {my_dict['windspeed20']}, {my_dict['winddir20']}, {my_dict['pressure20']},{my_dict['visibility20']}, {my_dict['cloudcover20']}, {my_dict['solarradiation20']}, {my_dict['solarenergy20']}, {my_dict['uvindex20']},{my_dict['severerisk20']}, {my_dict['conditions20']},\n",
    "{my_dict['temp21']},{my_dict['feelslike21']}, {my_dict['humidity21']}, {my_dict['dew21']}, {my_dict['precip21']},{my_dict['precipprob21']}, {my_dict['windgust21']}, {my_dict['windspeed21']}, {my_dict['winddir21']}, {my_dict['pressure21']},{my_dict['visibility21']}, {my_dict['cloudcover21']}, {my_dict['solarradiation21']}, {my_dict['solarenergy21']}, {my_dict['uvindex21']},{my_dict['severerisk21']}, {my_dict['conditions21']},\n",
    "{my_dict['temp22']},{my_dict['feelslike22']}, {my_dict['humidity22']}, {my_dict['dew22']}, {my_dict['precip22']},{my_dict['precipprob22']}, {my_dict['windgust22']}, {my_dict['windspeed22']}, {my_dict['winddir22']}, {my_dict['pressure22']},{my_dict['visibility22']}, {my_dict['cloudcover22']}, {my_dict['solarradiation22']}, {my_dict['solarenergy22']}, {my_dict['uvindex22']},{my_dict['severerisk22']}, {my_dict['conditions22']},\n",
    "{my_dict['temp23']},{my_dict['feelslike23']}, {my_dict['humidity23']}, {my_dict['dew23']}, {my_dict['precip23']},{my_dict['precipprob23']}, {my_dict['windgust23']}, {my_dict['windspeed23']}, {my_dict['winddir23']}, {my_dict['pressure23']},{my_dict['visibility23']}, {my_dict['cloudcover23']}, {my_dict['solarradiation23']}, {my_dict['solarenergy23']}, {my_dict['uvindex23']},{my_dict['severerisk23']}, {my_dict['conditions23']});'''\n",
    "\n",
    "    insert_query = part1_query + part2_query\n",
    "    #print(insert_query)\n",
    "    # Execute Query\n",
    "    cursor.execute(insert_query)\n",
    "    cnxn.commit() # Commit the changes to the database\n",
    "    # Close connection \n",
    "    cursor.close()\n",
    "    cnxn.close()\n",
    "\n",
    "    completeList.append(queryList[0]) #append query to completed list\n",
    "    queryList.pop(0) # pop query from remaining list\n",
    "    gameRec.pop(0) # Pop game record value\n",
    "    # Calculate cost relative to daily limit. 41 a day basically\n",
    "    cost += data['queryCost']\n",
    "    indexID += 1\n",
    " \n",
    "print('Made it to the end')\n",
    "    \n",
    "# Save the complete list and query list to files. \n"
   ]
  }
 ],
 "metadata": {
  "kernelspec": {
   "display_name": "Python 3",
   "language": "python",
   "name": "python3"
  },
  "language_info": {
   "codemirror_mode": {
    "name": "ipython",
    "version": 3
   },
   "file_extension": ".py",
   "mimetype": "text/x-python",
   "name": "python",
   "nbconvert_exporter": "python",
   "pygments_lexer": "ipython3",
   "version": "3.10.10"
  },
  "orig_nbformat": 4
 },
 "nbformat": 4,
 "nbformat_minor": 2
}
